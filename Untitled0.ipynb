{
  "nbformat": 4,
  "nbformat_minor": 0,
  "metadata": {
    "colab": {
      "provenance": [],
      "authorship_tag": "ABX9TyN4ZC8cEIr3mpYT3QGfgVgl",
      "include_colab_link": true
    },
    "kernelspec": {
      "name": "python3",
      "display_name": "Python 3"
    },
    "language_info": {
      "name": "python"
    }
  },
  "cells": [
    {
      "cell_type": "markdown",
      "metadata": {
        "id": "view-in-github",
        "colab_type": "text"
      },
      "source": [
        "<a href=\"https://colab.research.google.com/github/Gopikrishnamopuri/Tools-for-data-science/blob/main/Untitled0.ipynb\" target=\"_parent\"><img src=\"https://colab.research.google.com/assets/colab-badge.svg\" alt=\"Open In Colab\"/></a>"
      ]
    },
    {
      "cell_type": "code",
      "source": [
        "Tolls for data science"
      ],
      "metadata": {
        "id": "oqjPtSIRhlMg"
      },
      "execution_count": null,
      "outputs": []
    },
    {
      "cell_type": "code",
      "source": [
        "introduction to sql"
      ],
      "metadata": {
        "id": "7hKI_fuMhrA3"
      },
      "execution_count": null,
      "outputs": []
    },
    {
      "cell_type": "code",
      "source": [
        "Python.\n",
        "R.\n",
        "SQL.\n",
        "Java.\n",
        "Julia.\n",
        "Scala.\n",
        "C/C++\n",
        "JavaScript"
      ],
      "metadata": {
        "id": "ZIpfsU1Ih2wV"
      },
      "execution_count": null,
      "outputs": []
    },
    {
      "cell_type": "code",
      "source": [
        "TensorFlow\n",
        "NumPy\n",
        "SciPy \n",
        "Pandas\n",
        "Matplotlib \n",
        "Keras\n",
        "SciKit-Learn\n",
        "PyTorch"
      ],
      "metadata": {
        "id": "OmfXuY8liA9I"
      },
      "execution_count": null,
      "outputs": []
    },
    {
      "cell_type": "code",
      "source": [
        " Statistical Analysis System (SAS)\n",
        "Apache Hadoop\n",
        "Tableau\n",
        "TensorFlow\n",
        "BigML\n",
        "Knime\n",
        "RapidMiner\n",
        "Excel"
      ],
      "metadata": {
        "id": "2hBFIb5DiQNS"
      },
      "execution_count": null,
      "outputs": []
    },
    {
      "cell_type": "code",
      "source": [
        "5 -- a number is an arithmetic expression.\n",
        "(3 + 4) -- the sum of numbers is an arithmetic expression.\n",
        "(7 - 3) -- the difference of two numbers is an arithmetic expression.\n",
        "(2 5), 2 5 -- a product of two numbers is an arithmetic expression."
      ],
      "metadata": {
        "id": "jk6Xx32ZipYc"
      },
      "execution_count": null,
      "outputs": []
    },
    {
      "cell_type": "code",
      "source": [
        "a = 10\n",
        "b = 20\n",
        "print(a+b)\n",
        "print(a*b)"
      ],
      "metadata": {
        "colab": {
          "base_uri": "https://localhost:8080/"
        },
        "id": "6aJ5eQohiqyW",
        "outputId": "c63ee191-100d-4a90-d0aa-1e34cf13c82a"
      },
      "execution_count": 16,
      "outputs": [
        {
          "output_type": "stream",
          "name": "stdout",
          "text": [
            "30\n",
            "200\n"
          ]
        }
      ]
    },
    {
      "cell_type": "code",
      "source": [
        "def convert(seconds):\n",
        "  seconds = seconds %(24*3600)\n",
        "  hour = seconds//3600\n",
        "  seconds %= 3600\n",
        "  minutes = seconds//60\n",
        "  seconds %= 60\n",
        "  return \"%d:%02d:%02d\" % (hour, minutes, seconds)\n",
        "n = 12345\n",
        "print(convert(n))  \n"
      ],
      "metadata": {
        "colab": {
          "base_uri": "https://localhost:8080/"
        },
        "id": "ox7pjBNij1z3",
        "outputId": "8abe0fbd-241c-40ba-dd05-b1417ee6866e"
      },
      "execution_count": 17,
      "outputs": [
        {
          "output_type": "stream",
          "name": "stdout",
          "text": [
            "3:25:45\n"
          ]
        }
      ]
    },
    {
      "cell_type": "code",
      "source": [
        "3 + 4"
      ],
      "metadata": {
        "colab": {
          "base_uri": "https://localhost:8080/"
        },
        "id": "Xz8CZ8Ifk7ab",
        "outputId": "9ddeeb54-4f77-4b01-80a7-b9e84f3b465d"
      },
      "execution_count": 18,
      "outputs": [
        {
          "output_type": "execute_result",
          "data": {
            "text/plain": [
              "7"
            ]
          },
          "metadata": {},
          "execution_count": 18
        }
      ]
    },
    {
      "cell_type": "code",
      "source": [
        "JHON TUKEY"
      ],
      "metadata": {
        "id": "wnAnzi0PlB8s"
      },
      "execution_count": null,
      "outputs": []
    }
  ]
}